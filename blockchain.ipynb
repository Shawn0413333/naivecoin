{
  "nbformat": 4,
  "nbformat_minor": 0,
  "metadata": {
    "colab": {
      "provenance": []
    },
    "kernelspec": {
      "name": "python3",
      "display_name": "Python 3"
    },
    "language_info": {
      "name": "python"
    }
  },
  "cells": [
    {
      "cell_type": "code",
      "execution_count": 1,
      "metadata": {
        "id": "UAxe4LKGHHki"
      },
      "outputs": [],
      "source": [
        "class Blockchain:\n",
        "    def __init__(self):\n",
        "        self.chain = []\n",
        "        self.difficulty = 4  # Initial difficulty\n",
        "        self.block_time = 10  # Desired time to mine a block (in seconds)\n",
        "        self.adjustment_interval = 10  # Number of blocks before difficulty adjustment\n",
        "\n",
        "    def calculate_dynamic_difficulty(self):\n",
        "        if len(self.chain) < self.adjustment_interval:\n",
        "            return self.difficulty\n",
        "\n",
        "        last_blocks = self.chain[-self.adjustment_interval:]\n",
        "        actual_time = last_blocks[-1].timestamp - last_blocks[0].timestamp\n",
        "\n",
        "        if actual_time < (self.block_time * self.adjustment_interval) // 2:\n",
        "            self.difficulty += 1  # Increase difficulty\n",
        "        elif actual_time > (self.block_time * self.adjustment_interval) * 2:\n",
        "            self.difficulty -= 1  # Decrease difficulty\n",
        "        return self.difficulty\n"
      ]
    },
    {
      "cell_type": "code",
      "source": [
        "class Blockchain:\n",
        "    def resolve_forks(self, competing_chains):\n",
        "        # Compare chain lengths\n",
        "        longest_chain = max(competing_chains, key=len)\n",
        "        # Alternatively, select the chain with the highest cumulative difficulty\n",
        "        most_difficult_chain = max(competing_chains, key=self.calculate_total_difficulty)\n",
        "        return longest_chain if len(longest_chain) > len(most_difficult_chain) else most_difficult_chain\n",
        "\n",
        "    def calculate_total_difficulty(self, chain):\n",
        "        return sum(block.difficulty for block in chain)\n"
      ],
      "metadata": {
        "id": "z9LJVBeSHNyu"
      },
      "execution_count": 2,
      "outputs": []
    },
    {
      "cell_type": "code",
      "source": [
        "from cryptography.hazmat.primitives.asymmetric import rsa\n",
        "from cryptography.hazmat.primitives import serialization\n",
        "\n",
        "class Student:\n",
        "    def __init__(self, student_id):\n",
        "        self.student_id = student_id\n",
        "        self.private_key = rsa.generate_private_key(public_exponent=65537, key_size=2048)\n",
        "        self.public_key = self.private_key.public_key()\n",
        "\n",
        "    def get_public_key_pem(self):\n",
        "        return self.public_key.public_bytes(\n",
        "            encoding=serialization.Encoding.PEM,\n",
        "            format=serialization.PublicFormat.SubjectPublicKeyInfo\n",
        "        ).decode()\n",
        "\n",
        "    def sign_attendance(self, data):\n",
        "        # Sign attendance with the private key\n",
        "        from cryptography.hazmat.primitives.asymmetric import padding\n",
        "        from cryptography.hazmat.primitives import hashes\n",
        "\n",
        "        signature = self.private_key.sign(\n",
        "            data.encode(),\n",
        "            padding.PSS(\n",
        "                mgf=padding.MGF1(hashes.SHA256()),\n",
        "                salt_length=padding.PSS.MAX_LENGTH\n",
        "            ),\n",
        "            hashes.SHA256()\n",
        "        )\n",
        "        return signature\n"
      ],
      "metadata": {
        "id": "LbLYIx5GHVXm"
      },
      "execution_count": 3,
      "outputs": []
    },
    {
      "cell_type": "code",
      "source": [
        "class AttendanceRecord:\n",
        "    def __init__(self, student_id, event_id, timestamp, signature):\n",
        "        self.student_id = student_id\n",
        "        self.event_id = event_id\n",
        "        self.timestamp = timestamp\n",
        "        self.signature = signature\n",
        "\n",
        "    def to_dict(self):\n",
        "        return {\n",
        "            \"student_id\": self.student_id,\n",
        "            \"event_id\": self.event_id,\n",
        "            \"timestamp\": self.timestamp,\n",
        "            \"signature\": self.signature.hex()\n",
        "        }\n"
      ],
      "metadata": {
        "id": "0K8EvIJMHaNC"
      },
      "execution_count": 4,
      "outputs": []
    },
    {
      "cell_type": "code",
      "source": [
        "class Miner:\n",
        "    def __init__(self, blockchain):\n",
        "        self.blockchain = blockchain\n",
        "\n",
        "    def mine_block(self, attendance_records):\n",
        "        valid_records = self.validate_records(attendance_records)\n",
        "        new_block = Block(\n",
        "            index=len(self.blockchain.chain),\n",
        "            previous_hash=self.blockchain.chain[-1].hash if self.blockchain.chain else \"0\",\n",
        "            records=valid_records,\n",
        "            difficulty=self.blockchain.difficulty\n",
        "        )\n",
        "        self.blockchain.chain.append(new_block)\n",
        "\n",
        "    def validate_records(self, records):\n",
        "        # Validate the signature of each record\n",
        "        from cryptography.hazmat.primitives.asymmetric import padding\n",
        "        from cryptography.hazmat.primitives import hashes\n",
        "        valid_records = []\n",
        "        for record in records:\n",
        "            try:\n",
        "                public_key = serialization.load_pem_public_key(record.public_key.encode())\n",
        "                public_key.verify(\n",
        "                    bytes.fromhex(record.signature),\n",
        "                    f\"{record.student_id}{record.event_id}{record.timestamp}\".encode(),\n",
        "                    padding.PSS(\n",
        "                        mgf=padding.MGF1(hashes.SHA256()),\n",
        "                        salt_length=padding.PSS.MAX_LENGTH\n",
        "                    ),\n",
        "                    hashes.SHA256()\n",
        "                )\n",
        "                valid_records.append(record)\n",
        "            except Exception:\n",
        "                pass  # Invalid record\n",
        "        return valid_records\n"
      ],
      "metadata": {
        "id": "aPsoUsQnHeyv"
      },
      "execution_count": null,
      "outputs": []
    },
    {
      "cell_type": "code",
      "source": [
        "from flask import Flask, request, jsonify\n",
        "\n",
        "app = Flask(__name__)\n",
        "\n",
        "@app.route('/attendance', methods=['GET'])\n",
        "def query_attendance():\n",
        "    student_id = request.args.get('student_id')\n",
        "    attendance = [block.records for block in blockchain.chain if any(\n",
        "        record.student_id == student_id for record in block.records\n",
        "    )]\n",
        "    return jsonify(attendance)\n",
        "\n",
        "if __name__ == '__main__':\n",
        "    app.run(debug=True)\n"
      ],
      "metadata": {
        "id": "00VUM3qsHjM9"
      },
      "execution_count": null,
      "outputs": []
    },
    {
      "cell_type": "code",
      "source": [
        "class AttendanceRecord:\n",
        "    def __init__(self, student_id, event_id, timestamp, class_id=None):\n",
        "        self.student_id = student_id\n",
        "        self.event_id = event_id\n",
        "        self.timestamp = timestamp\n",
        "        self.class_id = class_id\n",
        "\n",
        "    def to_dict(self):\n",
        "        return {\n",
        "            \"student_id\": self.student_id,\n",
        "            \"event_id\": self.event_id,\n",
        "            \"timestamp\": self.timestamp,\n",
        "            \"class_id\": self.class_id\n",
        "        }\n"
      ],
      "metadata": {
        "id": "2maTJfg9Hokr"
      },
      "execution_count": 5,
      "outputs": []
    },
    {
      "cell_type": "code",
      "source": [
        "class Blockchain:\n",
        "    def __init__(self):\n",
        "        self.chain = []\n",
        "\n",
        "    def get_attendance_by_student(self, student_id, start_date=None, end_date=None):\n",
        "        records = []\n",
        "        for block in self.chain:\n",
        "            for record in block.records:\n",
        "                if record.student_id == student_id:\n",
        "                    # Filter by date if specified\n",
        "                    if start_date and end_date:\n",
        "                        if start_date <= record.timestamp <= end_date:\n",
        "                            records.append(record.to_dict())\n",
        "                    else:\n",
        "                        records.append(record.to_dict())\n",
        "        return records\n"
      ],
      "metadata": {
        "id": "h4xYZNQMHtgU"
      },
      "execution_count": 6,
      "outputs": []
    },
    {
      "cell_type": "code",
      "source": [
        "class Blockchain:\n",
        "    def get_attendance_by_class(self, class_id, start_date=None, end_date=None):\n",
        "        records = []\n",
        "        for block in self.chain:\n",
        "            for record in block.records:\n",
        "                if record.class_id == class_id:\n",
        "                    # Filter by date if specified\n",
        "                    if start_date and end_date:\n",
        "                        if start_date <= record.timestamp <= end_date:\n",
        "                            records.append(record.to_dict())\n",
        "                    else:\n",
        "                        records.append(record.to_dict())\n",
        "        return records\n"
      ],
      "metadata": {
        "id": "S1TRzz-vHxbi"
      },
      "execution_count": null,
      "outputs": []
    },
    {
      "cell_type": "code",
      "source": [
        "from flask import Flask, request, jsonify\n",
        "from datetime import datetime\n",
        "\n",
        "app = Flask(__name__)\n",
        "\n",
        "# Mock blockchain instance\n",
        "blockchain = Blockchain()\n",
        "\n",
        "@app.route('/query/student', methods=['GET'])\n",
        "def query_by_student():\n",
        "    student_id = request.args.get('student_id')\n",
        "    start_date = request.args.get('start_date')  # Format: YYYY-MM-DD\n",
        "    end_date = request.args.get('end_date')      # Format: YYYY-MM-DD\n",
        "\n",
        "    # Convert dates to datetime objects if provided\n",
        "    if start_date:\n",
        "        start_date = datetime.strptime(start_date, \"%Y-%m-%d\")\n",
        "    if end_date:\n",
        "        end_date = datetime.strptime(end_date, \"%Y-%m-%d\")\n",
        "\n",
        "    records = blockchain.get_attendance_by_student(student_id, start_date, end_date)\n",
        "    return jsonify(records)\n",
        "\n",
        "@app.route('/query/class', methods=['GET'])\n",
        "def query_by_class():\n",
        "    class_id = request.args.get('class_id')\n",
        "    start_date = request.args.get('start_date')  # Format: YYYY-MM-DD\n",
        "    end_date = request.args.get('end_date')      # Format: YYYY-MM-DD\n",
        "\n",
        "    # Convert dates to datetime objects if provided\n",
        "    if start_date:\n",
        "        start_date = datetime.strptime(start_date, \"%Y-%m-%d\")\n",
        "    if end_date:\n",
        "        end_date = datetime.strptime(end_date, \"%Y-%m-%d\")\n",
        "\n",
        "    records = blockchain.get_attendance_by_class(class_id, start_date, end_date)\n",
        "    return jsonify(records)\n",
        "\n",
        "if __name__ == '__main__':\n",
        "    app.run(debug=True)\n"
      ],
      "metadata": {
        "colab": {
          "base_uri": "https://localhost:8080/"
        },
        "id": "nueAPUUIH1SK",
        "outputId": "34108417-d48a-4200-ade4-b215876612ca"
      },
      "execution_count": null,
      "outputs": [
        {
          "output_type": "stream",
          "name": "stdout",
          "text": [
            " * Serving Flask app '__main__'\n",
            " * Debug mode: on\n"
          ]
        },
        {
          "output_type": "stream",
          "name": "stderr",
          "text": [
            "INFO:werkzeug:\u001b[31m\u001b[1mWARNING: This is a development server. Do not use it in a production deployment. Use a production WSGI server instead.\u001b[0m\n",
            " * Running on http://127.0.0.1:5000\n",
            "INFO:werkzeug:\u001b[33mPress CTRL+C to quit\u001b[0m\n",
            "INFO:werkzeug: * Restarting with stat\n"
          ]
        }
      ]
    }
  ]
}